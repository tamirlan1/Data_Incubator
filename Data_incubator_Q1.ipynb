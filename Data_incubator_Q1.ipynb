{
 "cells": [
  {
   "cell_type": "code",
   "execution_count": 1,
   "metadata": {
    "collapsed": true
   },
   "outputs": [],
   "source": [
    "from itertools import product\n",
    "import itertools\n",
    "counter = 1"
   ]
  },
  {
   "cell_type": "code",
   "execution_count": 12,
   "metadata": {
    "collapsed": false
   },
   "outputs": [],
   "source": [
    "lst = []\n",
    "prods = []\n",
    "for x1, x2, x3, x4, x5, x6, x7, x8 in itertools.product(range(1, 7), repeat=8):\n",
    "    M = x1 + x2 + x3 + x4 + x5 + x6 + x7 + x8\n",
    "    if M == 24:\n",
    "        lst.append([x1, x2, x3, x4, x5, x6, x7, x8])\n",
    "        product = x1*x2*x3*x4*x5*x6*x7*x8\n",
    "        prods.append(product)\n",
    "#         print counter, '---', x1, x2, x3, x4, x5, x6, x7, x8\n",
    "    counter += 1"
   ]
  },
  {
   "cell_type": "code",
   "execution_count": 13,
   "metadata": {
    "collapsed": false
   },
   "outputs": [
    {
     "name": "stdout",
     "output_type": "stream",
     "text": [
      "98813\n"
     ]
    }
   ],
   "source": [
    "print len(lst)"
   ]
  },
  {
   "cell_type": "code",
   "execution_count": 17,
   "metadata": {
    "collapsed": false
   },
   "outputs": [],
   "source": [
    "import numpy as np"
   ]
  },
  {
   "cell_type": "code",
   "execution_count": 20,
   "metadata": {
    "collapsed": false
   },
   "outputs": [
    {
     "data": {
      "text/plain": [
       "1859.9329541659499"
      ]
     },
     "execution_count": 20,
     "metadata": {},
     "output_type": "execute_result"
    }
   ],
   "source": [
    "mean = np.mean(prods)\n",
    "mean"
   ]
  },
  {
   "cell_type": "code",
   "execution_count": 21,
   "metadata": {
    "collapsed": false
   },
   "outputs": [
    {
     "data": {
      "text/plain": [
       "855.06988534739196"
      ]
     },
     "execution_count": 21,
     "metadata": {},
     "output_type": "execute_result"
    }
   ],
   "source": [
    "sd = np.std(prods)\n",
    "sd"
   ]
  },
  {
   "cell_type": "markdown",
   "metadata": {
    "collapsed": true
   },
   "source": [
    "Use partitioning"
   ]
  },
  {
   "cell_type": "code",
   "execution_count": 50,
   "metadata": {
    "collapsed": true
   },
   "outputs": [],
   "source": [
    "D = 6\n",
    "N = 8\n",
    "def partition(number):\n",
    "    answer = set()\n",
    "    if number <= D:\n",
    "        answer.add((number, ))\n",
    "    for x in range(1, number, ):\n",
    "        for y in partition(number - x):\n",
    "            a = ((x, ) + y)\n",
    "            if max(a) <= D:# and \n",
    "                answer.add(a)\n",
    "    return answer"
   ]
  },
  {
   "cell_type": "code",
   "execution_count": 51,
   "metadata": {
    "collapsed": false
   },
   "outputs": [],
   "source": [
    "combinations = partition(24)"
   ]
  },
  {
   "cell_type": "code",
   "execution_count": 52,
   "metadata": {
    "collapsed": false
   },
   "outputs": [],
   "source": [
    "prod_list = []\n",
    "for i in combinations:\n",
    "    if len(i) == N:\n",
    "        pr = 1\n",
    "        for n in i:\n",
    "            pr *= n\n",
    "#         print i\n",
    "#         print pr\n",
    "        prod_list.append(pr)\n",
    "# print prod_list1"
   ]
  },
  {
   "cell_type": "code",
   "execution_count": 53,
   "metadata": {
    "collapsed": false
   },
   "outputs": [
    {
     "name": "stdout",
     "output_type": "stream",
     "text": [
      "1859.93295417\n",
      "855.069885347\n"
     ]
    }
   ],
   "source": [
    "import numpy as np\n",
    "print np.mean(prod_list)\n",
    "print np.std(prod_list)"
   ]
  },
  {
   "cell_type": "code",
   "execution_count": null,
   "metadata": {
    "collapsed": true
   },
   "outputs": [],
   "source": [
    "N = 50\n",
    "combinations2 = partition(150)\n",
    "print 'Step 1 is done'\n",
    "prod_list2 = []\n",
    "for i in combinations2:\n",
    "    if len(i) == N:\n",
    "        pr = 1\n",
    "        for n in i:\n",
    "            pr *= n\n",
    "        prod_list2.append(pr)\n",
    "print 'step 2 is done'\n",
    "print np.mean(prod_list2)\n",
    "print np.std(prod_list2)"
   ]
  },
  {
   "cell_type": "code",
   "execution_count": null,
   "metadata": {
    "collapsed": true
   },
   "outputs": [],
   "source": [
    "print 2"
   ]
  },
  {
   "cell_type": "code",
   "execution_count": null,
   "metadata": {
    "collapsed": true
   },
   "outputs": [],
   "source": []
  }
 ],
 "metadata": {
  "kernelspec": {
   "display_name": "Python [Root]",
   "language": "python",
   "name": "Python [Root]"
  },
  "language_info": {
   "codemirror_mode": {
    "name": "ipython",
    "version": 2
   },
   "file_extension": ".py",
   "mimetype": "text/x-python",
   "name": "python",
   "nbconvert_exporter": "python",
   "pygments_lexer": "ipython2",
   "version": "2.7.12"
  }
 },
 "nbformat": 4,
 "nbformat_minor": 0
}
